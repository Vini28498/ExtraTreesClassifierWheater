{
 "cells": [
  {
   "cell_type": "code",
   "execution_count": 1,
   "id": "3816e236",
   "metadata": {
    "_cell_guid": "b1076dfc-b9ad-4769-8c92-a6c4dae69d19",
    "_uuid": "8f2839f25d086af736a60e9eeb907d3b93b6e0e5",
    "execution": {
     "iopub.execute_input": "2024-05-25T20:52:11.441151Z",
     "iopub.status.busy": "2024-05-25T20:52:11.440732Z",
     "iopub.status.idle": "2024-05-25T20:52:12.397628Z",
     "shell.execute_reply": "2024-05-25T20:52:12.396387Z"
    },
    "papermill": {
     "duration": 0.973116,
     "end_time": "2024-05-25T20:52:12.402005",
     "exception": false,
     "start_time": "2024-05-25T20:52:11.428889",
     "status": "completed"
    },
    "tags": []
   },
   "outputs": [
    {
     "name": "stdout",
     "output_type": "stream",
     "text": [
      "/kaggle/input/simple-rainfall-classification-dataset/rainfall.csv\n"
     ]
    }
   ],
   "source": [
    "# This Python 3 environment comes with many helpful analytics libraries installed\n",
    "# It is defined by the kaggle/python Docker image: https://github.com/kaggle/docker-python\n",
    "# For example, here's several helpful packages to load\n",
    "\n",
    "import numpy as np # linear algebra\n",
    "import pandas as pd # data processing, CSV file I/O (e.g. pd.read_csv)\n",
    "\n",
    "# Input data files are available in the read-only \"../input/\" directory\n",
    "# For example, running this (by clicking run or pressing Shift+Enter) will list all files under the input directory\n",
    "\n",
    "import os\n",
    "for dirname, _, filenames in os.walk('/kaggle/input'):\n",
    "    for filename in filenames:\n",
    "        print(os.path.join(dirname, filename))\n",
    "\n",
    "# You can write up to 20GB to the current directory (/kaggle/working/) that gets preserved as output when you create a version using \"Save & Run All\" \n",
    "# You can also write temporary files to /kaggle/temp/, but they won't be saved outside of the current session"
   ]
  },
  {
   "cell_type": "markdown",
   "id": "b43aa89a",
   "metadata": {
    "papermill": {
     "duration": 0.009959,
     "end_time": "2024-05-25T20:52:12.422947",
     "exception": false,
     "start_time": "2024-05-25T20:52:12.412988",
     "status": "completed"
    },
    "tags": []
   },
   "source": [
    "Importação das bibliotecas necessárias"
   ]
  },
  {
   "cell_type": "code",
   "execution_count": 2,
   "id": "18b5049a",
   "metadata": {
    "execution": {
     "iopub.execute_input": "2024-05-25T20:52:12.445077Z",
     "iopub.status.busy": "2024-05-25T20:52:12.443754Z",
     "iopub.status.idle": "2024-05-25T20:52:14.005607Z",
     "shell.execute_reply": "2024-05-25T20:52:14.004575Z"
    },
    "papermill": {
     "duration": 1.57529,
     "end_time": "2024-05-25T20:52:14.007983",
     "exception": false,
     "start_time": "2024-05-25T20:52:12.432693",
     "status": "completed"
    },
    "tags": []
   },
   "outputs": [],
   "source": [
    "import pandas as pd\n",
    "import numpy as np\n",
    "import seaborn as sns\n",
    "import matplotlib.pyplot as plt\n",
    "import sklearn"
   ]
  },
  {
   "cell_type": "markdown",
   "id": "8ceb4fbd",
   "metadata": {
    "papermill": {
     "duration": 0.009413,
     "end_time": "2024-05-25T20:52:14.028816",
     "exception": false,
     "start_time": "2024-05-25T20:52:14.019403",
     "status": "completed"
    },
    "tags": []
   },
   "source": [
    "Leitura do Arquivo .csv"
   ]
  },
  {
   "cell_type": "code",
   "execution_count": 3,
   "id": "4cba6d4d",
   "metadata": {
    "execution": {
     "iopub.execute_input": "2024-05-25T20:52:14.049947Z",
     "iopub.status.busy": "2024-05-25T20:52:14.049291Z",
     "iopub.status.idle": "2024-05-25T20:52:14.146352Z",
     "shell.execute_reply": "2024-05-25T20:52:14.145189Z"
    },
    "papermill": {
     "duration": 0.110404,
     "end_time": "2024-05-25T20:52:14.148802",
     "exception": false,
     "start_time": "2024-05-25T20:52:14.038398",
     "status": "completed"
    },
    "tags": []
   },
   "outputs": [],
   "source": [
    "df=pd.read_csv(\"/kaggle/input/simple-rainfall-classification-dataset/rainfall.csv\")"
   ]
  },
  {
   "cell_type": "markdown",
   "id": "2545e1bf",
   "metadata": {
    "papermill": {
     "duration": 0.009356,
     "end_time": "2024-05-25T20:52:14.167880",
     "exception": false,
     "start_time": "2024-05-25T20:52:14.158524",
     "status": "completed"
    },
    "tags": []
   },
   "source": [
    "Visualizando os dados do arquivo"
   ]
  },
  {
   "cell_type": "code",
   "execution_count": 4,
   "id": "edccb18a",
   "metadata": {
    "execution": {
     "iopub.execute_input": "2024-05-25T20:52:14.189004Z",
     "iopub.status.busy": "2024-05-25T20:52:14.188597Z",
     "iopub.status.idle": "2024-05-25T20:52:14.216028Z",
     "shell.execute_reply": "2024-05-25T20:52:14.214718Z"
    },
    "papermill": {
     "duration": 0.040652,
     "end_time": "2024-05-25T20:52:14.218369",
     "exception": false,
     "start_time": "2024-05-25T20:52:14.177717",
     "status": "completed"
    },
    "tags": []
   },
   "outputs": [
    {
     "data": {
      "text/html": [
       "<div>\n",
       "<style scoped>\n",
       "    .dataframe tbody tr th:only-of-type {\n",
       "        vertical-align: middle;\n",
       "    }\n",
       "\n",
       "    .dataframe tbody tr th {\n",
       "        vertical-align: top;\n",
       "    }\n",
       "\n",
       "    .dataframe thead th {\n",
       "        text-align: right;\n",
       "    }\n",
       "</style>\n",
       "<table border=\"1\" class=\"dataframe\">\n",
       "  <thead>\n",
       "    <tr style=\"text-align: right;\">\n",
       "      <th></th>\n",
       "      <th>date</th>\n",
       "      <th>rainfall</th>\n",
       "      <th>temperature</th>\n",
       "      <th>humidity</th>\n",
       "      <th>wind_speed</th>\n",
       "      <th>weather_condition</th>\n",
       "    </tr>\n",
       "  </thead>\n",
       "  <tbody>\n",
       "    <tr>\n",
       "      <th>0</th>\n",
       "      <td>2022-01-01</td>\n",
       "      <td>12.5</td>\n",
       "      <td>15.2</td>\n",
       "      <td>78.0</td>\n",
       "      <td>8.5</td>\n",
       "      <td>Rainy</td>\n",
       "    </tr>\n",
       "    <tr>\n",
       "      <th>1</th>\n",
       "      <td>2022-01-02</td>\n",
       "      <td>8.2</td>\n",
       "      <td>17.8</td>\n",
       "      <td>65.0</td>\n",
       "      <td>5.2</td>\n",
       "      <td>Rainy</td>\n",
       "    </tr>\n",
       "    <tr>\n",
       "      <th>2</th>\n",
       "      <td>2022-01-03</td>\n",
       "      <td>0.0</td>\n",
       "      <td>20.1</td>\n",
       "      <td>52.0</td>\n",
       "      <td>3.1</td>\n",
       "      <td>Sunny</td>\n",
       "    </tr>\n",
       "    <tr>\n",
       "      <th>3</th>\n",
       "      <td>2022-01-04</td>\n",
       "      <td>3.7</td>\n",
       "      <td>18.6</td>\n",
       "      <td>71.0</td>\n",
       "      <td>6.7</td>\n",
       "      <td>Rainy</td>\n",
       "    </tr>\n",
       "    <tr>\n",
       "      <th>4</th>\n",
       "      <td>2022-01-05</td>\n",
       "      <td>21.1</td>\n",
       "      <td>14.8</td>\n",
       "      <td>82.0</td>\n",
       "      <td>9.3</td>\n",
       "      <td>Rainy</td>\n",
       "    </tr>\n",
       "  </tbody>\n",
       "</table>\n",
       "</div>"
      ],
      "text/plain": [
       "         date  rainfall  temperature  humidity  wind_speed weather_condition\n",
       "0  2022-01-01      12.5         15.2      78.0         8.5             Rainy\n",
       "1  2022-01-02       8.2         17.8      65.0         5.2             Rainy\n",
       "2  2022-01-03       0.0         20.1      52.0         3.1             Sunny\n",
       "3  2022-01-04       3.7         18.6      71.0         6.7             Rainy\n",
       "4  2022-01-05      21.1         14.8      82.0         9.3             Rainy"
      ]
     },
     "execution_count": 4,
     "metadata": {},
     "output_type": "execute_result"
    }
   ],
   "source": [
    "df.head()"
   ]
  },
  {
   "cell_type": "markdown",
   "id": "e90aeb43",
   "metadata": {
    "papermill": {
     "duration": 0.00974,
     "end_time": "2024-05-25T20:52:14.238320",
     "exception": false,
     "start_time": "2024-05-25T20:52:14.228580",
     "status": "completed"
    },
    "tags": []
   },
   "source": [
    "Visualizando informações gerais do arquivo."
   ]
  },
  {
   "cell_type": "code",
   "execution_count": 5,
   "id": "5e3fb60d",
   "metadata": {
    "execution": {
     "iopub.execute_input": "2024-05-25T20:52:14.260112Z",
     "iopub.status.busy": "2024-05-25T20:52:14.259711Z",
     "iopub.status.idle": "2024-05-25T20:52:14.283563Z",
     "shell.execute_reply": "2024-05-25T20:52:14.282134Z"
    },
    "papermill": {
     "duration": 0.037753,
     "end_time": "2024-05-25T20:52:14.286022",
     "exception": false,
     "start_time": "2024-05-25T20:52:14.248269",
     "status": "completed"
    },
    "tags": []
   },
   "outputs": [
    {
     "name": "stdout",
     "output_type": "stream",
     "text": [
      "<class 'pandas.core.frame.DataFrame'>\n",
      "RangeIndex: 54 entries, 0 to 53\n",
      "Data columns (total 6 columns):\n",
      " #   Column             Non-Null Count  Dtype  \n",
      "---  ------             --------------  -----  \n",
      " 0   date               54 non-null     object \n",
      " 1   rainfall           53 non-null     float64\n",
      " 2   temperature        53 non-null     float64\n",
      " 3   humidity           53 non-null     float64\n",
      " 4   wind_speed         53 non-null     float64\n",
      " 5   weather_condition  53 non-null     object \n",
      "dtypes: float64(4), object(2)\n",
      "memory usage: 2.7+ KB\n"
     ]
    }
   ],
   "source": [
    "df.info()"
   ]
  },
  {
   "cell_type": "markdown",
   "id": "a33ce25d",
   "metadata": {
    "papermill": {
     "duration": 0.009643,
     "end_time": "2024-05-25T20:52:14.305770",
     "exception": false,
     "start_time": "2024-05-25T20:52:14.296127",
     "status": "completed"
    },
    "tags": []
   },
   "source": [
    "Visualizando tamanho do arquivo"
   ]
  },
  {
   "cell_type": "code",
   "execution_count": 6,
   "id": "851acf70",
   "metadata": {
    "execution": {
     "iopub.execute_input": "2024-05-25T20:52:14.327751Z",
     "iopub.status.busy": "2024-05-25T20:52:14.326755Z",
     "iopub.status.idle": "2024-05-25T20:52:14.333049Z",
     "shell.execute_reply": "2024-05-25T20:52:14.332275Z"
    },
    "papermill": {
     "duration": 0.019406,
     "end_time": "2024-05-25T20:52:14.335061",
     "exception": false,
     "start_time": "2024-05-25T20:52:14.315655",
     "status": "completed"
    },
    "tags": []
   },
   "outputs": [
    {
     "data": {
      "text/plain": [
       "(54, 6)"
      ]
     },
     "execution_count": 6,
     "metadata": {},
     "output_type": "execute_result"
    }
   ],
   "source": [
    "df.shape"
   ]
  },
  {
   "cell_type": "markdown",
   "id": "c3f9ec69",
   "metadata": {
    "papermill": {
     "duration": 0.009731,
     "end_time": "2024-05-25T20:52:14.354743",
     "exception": false,
     "start_time": "2024-05-25T20:52:14.345012",
     "status": "completed"
    },
    "tags": []
   },
   "source": [
    "Quantidade de registros faltantes"
   ]
  },
  {
   "cell_type": "code",
   "execution_count": 7,
   "id": "dc78ce4f",
   "metadata": {
    "execution": {
     "iopub.execute_input": "2024-05-25T20:52:14.376645Z",
     "iopub.status.busy": "2024-05-25T20:52:14.376069Z",
     "iopub.status.idle": "2024-05-25T20:52:14.383543Z",
     "shell.execute_reply": "2024-05-25T20:52:14.382304Z"
    },
    "papermill": {
     "duration": 0.02098,
     "end_time": "2024-05-25T20:52:14.385601",
     "exception": false,
     "start_time": "2024-05-25T20:52:14.364621",
     "status": "completed"
    },
    "tags": []
   },
   "outputs": [
    {
     "data": {
      "text/plain": [
       "date                 0\n",
       "rainfall             1\n",
       "temperature          1\n",
       "humidity             1\n",
       "wind_speed           1\n",
       "weather_condition    1\n",
       "dtype: int64"
      ]
     },
     "execution_count": 7,
     "metadata": {},
     "output_type": "execute_result"
    }
   ],
   "source": [
    "df.isnull().sum()"
   ]
  },
  {
   "cell_type": "markdown",
   "id": "5f147f5a",
   "metadata": {
    "papermill": {
     "duration": 0.009891,
     "end_time": "2024-05-25T20:52:14.405628",
     "exception": false,
     "start_time": "2024-05-25T20:52:14.395737",
     "status": "completed"
    },
    "tags": []
   },
   "source": [
    "Retirando registros com dados nulos."
   ]
  },
  {
   "cell_type": "code",
   "execution_count": 8,
   "id": "55aa6ac9",
   "metadata": {
    "execution": {
     "iopub.execute_input": "2024-05-25T20:52:14.427829Z",
     "iopub.status.busy": "2024-05-25T20:52:14.427445Z",
     "iopub.status.idle": "2024-05-25T20:52:14.436189Z",
     "shell.execute_reply": "2024-05-25T20:52:14.435193Z"
    },
    "papermill": {
     "duration": 0.02248,
     "end_time": "2024-05-25T20:52:14.438323",
     "exception": false,
     "start_time": "2024-05-25T20:52:14.415843",
     "status": "completed"
    },
    "tags": []
   },
   "outputs": [],
   "source": [
    "df = df.dropna()"
   ]
  },
  {
   "cell_type": "markdown",
   "id": "4f6e754d",
   "metadata": {
    "papermill": {
     "duration": 0.010563,
     "end_time": "2024-05-25T20:52:14.459701",
     "exception": false,
     "start_time": "2024-05-25T20:52:14.449138",
     "status": "completed"
    },
    "tags": []
   },
   "source": [
    "Retirando campos desnecessários."
   ]
  },
  {
   "cell_type": "code",
   "execution_count": 9,
   "id": "b2fd3e5d",
   "metadata": {
    "execution": {
     "iopub.execute_input": "2024-05-25T20:52:14.482857Z",
     "iopub.status.busy": "2024-05-25T20:52:14.482184Z",
     "iopub.status.idle": "2024-05-25T20:52:14.488748Z",
     "shell.execute_reply": "2024-05-25T20:52:14.487675Z"
    },
    "papermill": {
     "duration": 0.021069,
     "end_time": "2024-05-25T20:52:14.490935",
     "exception": false,
     "start_time": "2024-05-25T20:52:14.469866",
     "status": "completed"
    },
    "tags": []
   },
   "outputs": [],
   "source": [
    "df = df.drop(['date'], axis=1)"
   ]
  },
  {
   "cell_type": "markdown",
   "id": "bd19fe03",
   "metadata": {
    "papermill": {
     "duration": 0.011152,
     "end_time": "2024-05-25T20:52:14.512254",
     "exception": false,
     "start_time": "2024-05-25T20:52:14.501102",
     "status": "completed"
    },
    "tags": []
   },
   "source": [
    "Visualizando limpeza de registros faltantes."
   ]
  },
  {
   "cell_type": "code",
   "execution_count": 10,
   "id": "9450a8c6",
   "metadata": {
    "execution": {
     "iopub.execute_input": "2024-05-25T20:52:14.535291Z",
     "iopub.status.busy": "2024-05-25T20:52:14.534620Z",
     "iopub.status.idle": "2024-05-25T20:52:14.542673Z",
     "shell.execute_reply": "2024-05-25T20:52:14.541574Z"
    },
    "papermill": {
     "duration": 0.022569,
     "end_time": "2024-05-25T20:52:14.545065",
     "exception": false,
     "start_time": "2024-05-25T20:52:14.522496",
     "status": "completed"
    },
    "tags": []
   },
   "outputs": [
    {
     "data": {
      "text/plain": [
       "rainfall             0\n",
       "temperature          0\n",
       "humidity             0\n",
       "wind_speed           0\n",
       "weather_condition    0\n",
       "dtype: int64"
      ]
     },
     "execution_count": 10,
     "metadata": {},
     "output_type": "execute_result"
    }
   ],
   "source": [
    "df.isnull().sum()"
   ]
  },
  {
   "cell_type": "markdown",
   "id": "66338fb0",
   "metadata": {
    "papermill": {
     "duration": 0.010066,
     "end_time": "2024-05-25T20:52:14.565547",
     "exception": false,
     "start_time": "2024-05-25T20:52:14.555481",
     "status": "completed"
    },
    "tags": []
   },
   "source": [
    "Visualizando quantidade agrupada de variável alvo."
   ]
  },
  {
   "cell_type": "code",
   "execution_count": 11,
   "id": "6ab898eb",
   "metadata": {
    "execution": {
     "iopub.execute_input": "2024-05-25T20:52:14.588632Z",
     "iopub.status.busy": "2024-05-25T20:52:14.587856Z",
     "iopub.status.idle": "2024-05-25T20:52:14.596259Z",
     "shell.execute_reply": "2024-05-25T20:52:14.595129Z"
    },
    "papermill": {
     "duration": 0.022406,
     "end_time": "2024-05-25T20:52:14.598441",
     "exception": false,
     "start_time": "2024-05-25T20:52:14.576035",
     "status": "completed"
    },
    "tags": []
   },
   "outputs": [
    {
     "data": {
      "text/plain": [
       "weather_condition\n",
       "Rainy    42\n",
       "Sunny    11\n",
       "Name: count, dtype: int64"
      ]
     },
     "execution_count": 11,
     "metadata": {},
     "output_type": "execute_result"
    }
   ],
   "source": [
    "df['weather_condition'].value_counts()"
   ]
  },
  {
   "cell_type": "markdown",
   "id": "72dafdf7",
   "metadata": {
    "papermill": {
     "duration": 0.01005,
     "end_time": "2024-05-25T20:52:14.618803",
     "exception": false,
     "start_time": "2024-05-25T20:52:14.608753",
     "status": "completed"
    },
    "tags": []
   },
   "source": [
    "Gráfico de barras para visualização de comparação entre as informações da variável alvo."
   ]
  },
  {
   "cell_type": "code",
   "execution_count": 12,
   "id": "8dbf01cd",
   "metadata": {
    "execution": {
     "iopub.execute_input": "2024-05-25T20:52:14.701827Z",
     "iopub.status.busy": "2024-05-25T20:52:14.701163Z",
     "iopub.status.idle": "2024-05-25T20:52:14.940225Z",
     "shell.execute_reply": "2024-05-25T20:52:14.939123Z"
    },
    "papermill": {
     "duration": 0.253672,
     "end_time": "2024-05-25T20:52:14.942352",
     "exception": false,
     "start_time": "2024-05-25T20:52:14.688680",
     "status": "completed"
    },
    "tags": []
   },
   "outputs": [
    {
     "data": {
      "image/png": "[encoded data removed]",
      "text/plain": [
       "<Figure size 640x480 with 1 Axes>"
      ]
     },
     "metadata": {},
     "output_type": "display_data"
    }
   ],
   "source": [
    "custom_palette = {'Rainy': 'lightblue', 'Sunny': 'darkorange'}\n",
    "sns.countplot(x='weather_condition', data=df, palette=custom_palette)\n",
    "plt.show()"
   ]
  },
  {
   "cell_type": "markdown",
   "id": "6a4e4380",
   "metadata": {
    "papermill": {
     "duration": 0.010386,
     "end_time": "2024-05-25T20:52:14.963547",
     "exception": false,
     "start_time": "2024-05-25T20:52:14.953161",
     "status": "completed"
    },
    "tags": []
   },
   "source": [
    "Criação dos dataframes de variáveis alvo e variáveis preditoras."
   ]
  },
  {
   "cell_type": "code",
   "execution_count": 13,
   "id": "93d9eb46",
   "metadata": {
    "execution": {
     "iopub.execute_input": "2024-05-25T20:52:14.987289Z",
     "iopub.status.busy": "2024-05-25T20:52:14.986297Z",
     "iopub.status.idle": "2024-05-25T20:52:14.992948Z",
     "shell.execute_reply": "2024-05-25T20:52:14.991776Z"
    },
    "papermill": {
     "duration": 0.020957,
     "end_time": "2024-05-25T20:52:14.995229",
     "exception": false,
     "start_time": "2024-05-25T20:52:14.974272",
     "status": "completed"
    },
    "tags": []
   },
   "outputs": [],
   "source": [
    "t = df['weather_condition']\n",
    "p = df.drop('weather_condition', axis = 1)"
   ]
  },
  {
   "cell_type": "markdown",
   "id": "85bf2a29",
   "metadata": {
    "papermill": {
     "duration": 0.010481,
     "end_time": "2024-05-25T20:52:15.016918",
     "exception": false,
     "start_time": "2024-05-25T20:52:15.006437",
     "status": "completed"
    },
    "tags": []
   },
   "source": [
    "Tamanho da variável alvo."
   ]
  },
  {
   "cell_type": "code",
   "execution_count": 14,
   "id": "cc24ddad",
   "metadata": {
    "execution": {
     "iopub.execute_input": "2024-05-25T20:52:15.041365Z",
     "iopub.status.busy": "2024-05-25T20:52:15.040982Z",
     "iopub.status.idle": "2024-05-25T20:52:15.047755Z",
     "shell.execute_reply": "2024-05-25T20:52:15.046370Z"
    },
    "papermill": {
     "duration": 0.022628,
     "end_time": "2024-05-25T20:52:15.050366",
     "exception": false,
     "start_time": "2024-05-25T20:52:15.027738",
     "status": "completed"
    },
    "tags": []
   },
   "outputs": [
    {
     "data": {
      "text/plain": [
       "(53,)"
      ]
     },
     "execution_count": 14,
     "metadata": {},
     "output_type": "execute_result"
    }
   ],
   "source": [
    "t.shape"
   ]
  },
  {
   "cell_type": "markdown",
   "id": "1129bcb0",
   "metadata": {
    "papermill": {
     "duration": 0.010639,
     "end_time": "2024-05-25T20:52:15.072140",
     "exception": false,
     "start_time": "2024-05-25T20:52:15.061501",
     "status": "completed"
    },
    "tags": []
   },
   "source": [
    "Visualizando a variável alvo."
   ]
  },
  {
   "cell_type": "code",
   "execution_count": 15,
   "id": "382d4bf6",
   "metadata": {
    "execution": {
     "iopub.execute_input": "2024-05-25T20:52:15.096109Z",
     "iopub.status.busy": "2024-05-25T20:52:15.094935Z",
     "iopub.status.idle": "2024-05-25T20:52:15.102470Z",
     "shell.execute_reply": "2024-05-25T20:52:15.101496Z"
    },
    "papermill": {
     "duration": 0.021629,
     "end_time": "2024-05-25T20:52:15.104570",
     "exception": false,
     "start_time": "2024-05-25T20:52:15.082941",
     "status": "completed"
    },
    "tags": []
   },
   "outputs": [
    {
     "data": {
      "text/plain": [
       "0    Rainy\n",
       "1    Rainy\n",
       "2    Sunny\n",
       "3    Rainy\n",
       "4    Rainy\n",
       "Name: weather_condition, dtype: object"
      ]
     },
     "execution_count": 15,
     "metadata": {},
     "output_type": "execute_result"
    }
   ],
   "source": [
    "t.head()"
   ]
  },
  {
   "cell_type": "markdown",
   "id": "19124528",
   "metadata": {
    "papermill": {
     "duration": 0.010998,
     "end_time": "2024-05-25T20:52:15.126486",
     "exception": false,
     "start_time": "2024-05-25T20:52:15.115488",
     "status": "completed"
    },
    "tags": []
   },
   "source": [
    "Tamanho das variáveis preditoras"
   ]
  },
  {
   "cell_type": "code",
   "execution_count": 16,
   "id": "2579ef8d",
   "metadata": {
    "execution": {
     "iopub.execute_input": "2024-05-25T20:52:15.150614Z",
     "iopub.status.busy": "2024-05-25T20:52:15.149597Z",
     "iopub.status.idle": "2024-05-25T20:52:15.157450Z",
     "shell.execute_reply": "2024-05-25T20:52:15.156475Z"
    },
    "papermill": {
     "duration": 0.022132,
     "end_time": "2024-05-25T20:52:15.159517",
     "exception": false,
     "start_time": "2024-05-25T20:52:15.137385",
     "status": "completed"
    },
    "tags": []
   },
   "outputs": [
    {
     "data": {
      "text/plain": [
       "(53, 4)"
      ]
     },
     "execution_count": 16,
     "metadata": {},
     "output_type": "execute_result"
    }
   ],
   "source": [
    "p.shape"
   ]
  },
  {
   "cell_type": "markdown",
   "id": "1a78aff2",
   "metadata": {
    "papermill": {
     "duration": 0.010962,
     "end_time": "2024-05-25T20:52:15.181808",
     "exception": false,
     "start_time": "2024-05-25T20:52:15.170846",
     "status": "completed"
    },
    "tags": []
   },
   "source": [
    "Visualizando as variáveis preditoras."
   ]
  },
  {
   "cell_type": "code",
   "execution_count": 17,
   "id": "c3614ca2",
   "metadata": {
    "execution": {
     "iopub.execute_input": "2024-05-25T20:52:15.206185Z",
     "iopub.status.busy": "2024-05-25T20:52:15.205733Z",
     "iopub.status.idle": "2024-05-25T20:52:15.220863Z",
     "shell.execute_reply": "2024-05-25T20:52:15.220003Z"
    },
    "papermill": {
     "duration": 0.030075,
     "end_time": "2024-05-25T20:52:15.223177",
     "exception": false,
     "start_time": "2024-05-25T20:52:15.193102",
     "status": "completed"
    },
    "tags": []
   },
   "outputs": [
    {
     "data": {
      "text/html": [
       "<div>\n",
       "<style scoped>\n",
       "    .dataframe tbody tr th:only-of-type {\n",
       "        vertical-align: middle;\n",
       "    }\n",
       "\n",
       "    .dataframe tbody tr th {\n",
       "        vertical-align: top;\n",
       "    }\n",
       "\n",
       "    .dataframe thead th {\n",
       "        text-align: right;\n",
       "    }\n",
       "</style>\n",
       "<table border=\"1\" class=\"dataframe\">\n",
       "  <thead>\n",
       "    <tr style=\"text-align: right;\">\n",
       "      <th></th>\n",
       "      <th>rainfall</th>\n",
       "      <th>temperature</th>\n",
       "      <th>humidity</th>\n",
       "      <th>wind_speed</th>\n",
       "    </tr>\n",
       "  </thead>\n",
       "  <tbody>\n",
       "    <tr>\n",
       "      <th>0</th>\n",
       "      <td>12.5</td>\n",
       "      <td>15.2</td>\n",
       "      <td>78.0</td>\n",
       "      <td>8.5</td>\n",
       "    </tr>\n",
       "    <tr>\n",
       "      <th>1</th>\n",
       "      <td>8.2</td>\n",
       "      <td>17.8</td>\n",
       "      <td>65.0</td>\n",
       "      <td>5.2</td>\n",
       "    </tr>\n",
       "    <tr>\n",
       "      <th>2</th>\n",
       "      <td>0.0</td>\n",
       "      <td>20.1</td>\n",
       "      <td>52.0</td>\n",
       "      <td>3.1</td>\n",
       "    </tr>\n",
       "    <tr>\n",
       "      <th>3</th>\n",
       "      <td>3.7</td>\n",
       "      <td>18.6</td>\n",
       "      <td>71.0</td>\n",
       "      <td>6.7</td>\n",
       "    </tr>\n",
       "    <tr>\n",
       "      <th>4</th>\n",
       "      <td>21.1</td>\n",
       "      <td>14.8</td>\n",
       "      <td>82.0</td>\n",
       "      <td>9.3</td>\n",
       "    </tr>\n",
       "  </tbody>\n",
       "</table>\n",
       "</div>"
      ],
      "text/plain": [
       "   rainfall  temperature  humidity  wind_speed\n",
       "0      12.5         15.2      78.0         8.5\n",
       "1       8.2         17.8      65.0         5.2\n",
       "2       0.0         20.1      52.0         3.1\n",
       "3       3.7         18.6      71.0         6.7\n",
       "4      21.1         14.8      82.0         9.3"
      ]
     },
     "execution_count": 17,
     "metadata": {},
     "output_type": "execute_result"
    }
   ],
   "source": [
    "p.head()"
   ]
  },
  {
   "cell_type": "markdown",
   "id": "30d13190",
   "metadata": {
    "papermill": {
     "duration": 0.011139,
     "end_time": "2024-05-25T20:52:15.245922",
     "exception": false,
     "start_time": "2024-05-25T20:52:15.234783",
     "status": "completed"
    },
    "tags": []
   },
   "source": [
    "Separação dos dataframes de treino e teste para o modelo, considerando 30% para teste e 70% para treino."
   ]
  },
  {
   "cell_type": "code",
   "execution_count": 18,
   "id": "9470a287",
   "metadata": {
    "execution": {
     "iopub.execute_input": "2024-05-25T20:52:15.271161Z",
     "iopub.status.busy": "2024-05-25T20:52:15.270497Z",
     "iopub.status.idle": "2024-05-25T20:52:15.430649Z",
     "shell.execute_reply": "2024-05-25T20:52:15.429384Z"
    },
    "papermill": {
     "duration": 0.175801,
     "end_time": "2024-05-25T20:52:15.433279",
     "exception": false,
     "start_time": "2024-05-25T20:52:15.257478",
     "status": "completed"
    },
    "tags": []
   },
   "outputs": [],
   "source": [
    "from sklearn.model_selection import train_test_split\n",
    "\n",
    "t_train, t_test, p_train, p_test = train_test_split(t, p, test_size = 0.3)"
   ]
  },
  {
   "cell_type": "markdown",
   "id": "ffbecbb0",
   "metadata": {
    "papermill": {
     "duration": 0.011706,
     "end_time": "2024-05-25T20:52:15.456410",
     "exception": false,
     "start_time": "2024-05-25T20:52:15.444704",
     "status": "completed"
    },
    "tags": []
   },
   "source": [
    "Visualizando a separação de 30% do dataframe para teste."
   ]
  },
  {
   "cell_type": "code",
   "execution_count": 19,
   "id": "8424714e",
   "metadata": {
    "execution": {
     "iopub.execute_input": "2024-05-25T20:52:15.481125Z",
     "iopub.status.busy": "2024-05-25T20:52:15.480674Z",
     "iopub.status.idle": "2024-05-25T20:52:15.487720Z",
     "shell.execute_reply": "2024-05-25T20:52:15.486453Z"
    },
    "papermill": {
     "duration": 0.021998,
     "end_time": "2024-05-25T20:52:15.489920",
     "exception": false,
     "start_time": "2024-05-25T20:52:15.467922",
     "status": "completed"
    },
    "tags": []
   },
   "outputs": [
    {
     "data": {
      "text/plain": [
       "(16,)"
      ]
     },
     "execution_count": 19,
     "metadata": {},
     "output_type": "execute_result"
    }
   ],
   "source": [
    "t_test.shape"
   ]
  },
  {
   "cell_type": "code",
   "execution_count": 20,
   "id": "057cc0ab",
   "metadata": {
    "execution": {
     "iopub.execute_input": "2024-05-25T20:52:15.515724Z",
     "iopub.status.busy": "2024-05-25T20:52:15.515346Z",
     "iopub.status.idle": "2024-05-25T20:52:15.521339Z",
     "shell.execute_reply": "2024-05-25T20:52:15.520350Z"
    },
    "papermill": {
     "duration": 0.022076,
     "end_time": "2024-05-25T20:52:15.523695",
     "exception": false,
     "start_time": "2024-05-25T20:52:15.501619",
     "status": "completed"
    },
    "tags": []
   },
   "outputs": [
    {
     "data": {
      "text/plain": [
       "(37,)"
      ]
     },
     "execution_count": 20,
     "metadata": {},
     "output_type": "execute_result"
    }
   ],
   "source": [
    "t_train.shape"
   ]
  },
  {
   "cell_type": "markdown",
   "id": "81c70cbb",
   "metadata": {
    "papermill": {
     "duration": 0.011833,
     "end_time": "2024-05-25T20:52:15.547285",
     "exception": false,
     "start_time": "2024-05-25T20:52:15.535452",
     "status": "completed"
    },
    "tags": []
   },
   "source": [
    "Visualizando a separação de 70% do dataframe para treino.Visualizando a separação de 70% do dataframe para treino."
   ]
  },
  {
   "cell_type": "code",
   "execution_count": 21,
   "id": "908e88e7",
   "metadata": {
    "execution": {
     "iopub.execute_input": "2024-05-25T20:52:15.572576Z",
     "iopub.status.busy": "2024-05-25T20:52:15.572216Z",
     "iopub.status.idle": "2024-05-25T20:52:15.578917Z",
     "shell.execute_reply": "2024-05-25T20:52:15.577758Z"
    },
    "papermill": {
     "duration": 0.022117,
     "end_time": "2024-05-25T20:52:15.581130",
     "exception": false,
     "start_time": "2024-05-25T20:52:15.559013",
     "status": "completed"
    },
    "tags": []
   },
   "outputs": [
    {
     "data": {
      "text/plain": [
       "(16, 4)"
      ]
     },
     "execution_count": 21,
     "metadata": {},
     "output_type": "execute_result"
    }
   ],
   "source": [
    "p_test.shape"
   ]
  },
  {
   "cell_type": "code",
   "execution_count": 22,
   "id": "f089f8b5",
   "metadata": {
    "execution": {
     "iopub.execute_input": "2024-05-25T20:52:15.606439Z",
     "iopub.status.busy": "2024-05-25T20:52:15.606020Z",
     "iopub.status.idle": "2024-05-25T20:52:15.612727Z",
     "shell.execute_reply": "2024-05-25T20:52:15.611472Z"
    },
    "papermill": {
     "duration": 0.021988,
     "end_time": "2024-05-25T20:52:15.614920",
     "exception": false,
     "start_time": "2024-05-25T20:52:15.592932",
     "status": "completed"
    },
    "tags": []
   },
   "outputs": [
    {
     "data": {
      "text/plain": [
       "(37, 4)"
      ]
     },
     "execution_count": 22,
     "metadata": {},
     "output_type": "execute_result"
    }
   ],
   "source": [
    "p_train.shape"
   ]
  },
  {
   "cell_type": "markdown",
   "id": "6b5aff61",
   "metadata": {
    "papermill": {
     "duration": 0.011499,
     "end_time": "2024-05-25T20:52:15.638122",
     "exception": false,
     "start_time": "2024-05-25T20:52:15.626623",
     "status": "completed"
    },
    "tags": []
   },
   "source": [
    "Chamando a função ExtraTressClassifier (Árvore de decisão) para treinar de acordo com 70% do dataframe com as variáveis preditoras e alvo."
   ]
  },
  {
   "cell_type": "code",
   "execution_count": 23,
   "id": "73e1fa2f",
   "metadata": {
    "execution": {
     "iopub.execute_input": "2024-05-25T20:52:15.663382Z",
     "iopub.status.busy": "2024-05-25T20:52:15.662978Z",
     "iopub.status.idle": "2024-05-25T20:52:16.056004Z",
     "shell.execute_reply": "2024-05-25T20:52:16.055123Z"
    },
    "papermill": {
     "duration": 0.408547,
     "end_time": "2024-05-25T20:52:16.058369",
     "exception": false,
     "start_time": "2024-05-25T20:52:15.649822",
     "status": "completed"
    },
    "tags": []
   },
   "outputs": [
    {
     "data": {
      "text/html": [
       "<style>#sk-container-id-1 {color: black;background-color: white;}#sk-container-id-1 pre{padding: 0;}#sk-container-id-1 div.sk-toggleable {background-color: white;}#sk-container-id-1 label.sk-toggleable__label {cursor: pointer;display: block;width: 100%;margin-bottom: 0;padding: 0.3em;box-sizing: border-box;text-align: center;}#sk-container-id-1 label.sk-toggleable__label-arrow:before {content: \"▸\";float: left;margin-right: 0.25em;color: #696969;}#sk-container-id-1 label.sk-toggleable__label-arrow:hover:before {color: black;}#sk-container-id-1 div.sk-estimator:hover label.sk-toggleable__label-arrow:before {color: black;}#sk-container-id-1 div.sk-toggleable__content {max-height: 0;max-width: 0;overflow: hidden;text-align: left;background-color: #f0f8ff;}#sk-container-id-1 div.sk-toggleable__content pre {margin: 0.2em;color: black;border-radius: 0.25em;background-color: #f0f8ff;}#sk-container-id-1 input.sk-toggleable__control:checked~div.sk-toggleable__content {max-height: 200px;max-width: 100%;overflow: auto;}#sk-container-id-1 input.sk-toggleable__control:checked~label.sk-toggleable__label-arrow:before {content: \"▾\";}#sk-container-id-1 div.sk-estimator input.sk-toggleable__control:checked~label.sk-toggleable__label {background-color: #d4ebff;}#sk-container-id-1 div.sk-label input.sk-toggleable__control:checked~label.sk-toggleable__label {background-color: #d4ebff;}#sk-container-id-1 input.sk-hidden--visually {border: 0;clip: rect(1px 1px 1px 1px);clip: rect(1px, 1px, 1px, 1px);height: 1px;margin: -1px;overflow: hidden;padding: 0;position: absolute;width: 1px;}#sk-container-id-1 div.sk-estimator {font-family: monospace;background-color: #f0f8ff;border: 1px dotted black;border-radius: 0.25em;box-sizing: border-box;margin-bottom: 0.5em;}#sk-container-id-1 div.sk-estimator:hover {background-color: #d4ebff;}#sk-container-id-1 div.sk-parallel-item::after {content: \"\";width: 100%;border-bottom: 1px solid gray;flex-grow: 1;}#sk-container-id-1 div.sk-label:hover label.sk-toggleable__label {background-color: #d4ebff;}#sk-container-id-1 div.sk-serial::before {content: \"\";position: absolute;border-left: 1px solid gray;box-sizing: border-box;top: 0;bottom: 0;left: 50%;z-index: 0;}#sk-container-id-1 div.sk-serial {display: flex;flex-direction: column;align-items: center;background-color: white;padding-right: 0.2em;padding-left: 0.2em;position: relative;}#sk-container-id-1 div.sk-item {position: relative;z-index: 1;}#sk-container-id-1 div.sk-parallel {display: flex;align-items: stretch;justify-content: center;background-color: white;position: relative;}#sk-container-id-1 div.sk-item::before, #sk-container-id-1 div.sk-parallel-item::before {content: \"\";position: absolute;border-left: 1px solid gray;box-sizing: border-box;top: 0;bottom: 0;left: 50%;z-index: -1;}#sk-container-id-1 div.sk-parallel-item {display: flex;flex-direction: column;z-index: 1;position: relative;background-color: white;}#sk-container-id-1 div.sk-parallel-item:first-child::after {align-self: flex-end;width: 50%;}#sk-container-id-1 div.sk-parallel-item:last-child::after {align-self: flex-start;width: 50%;}#sk-container-id-1 div.sk-parallel-item:only-child::after {width: 0;}#sk-container-id-1 div.sk-dashed-wrapped {border: 1px dashed gray;margin: 0 0.4em 0.5em 0.4em;box-sizing: border-box;padding-bottom: 0.4em;background-color: white;}#sk-container-id-1 div.sk-label label {font-family: monospace;font-weight: bold;display: inline-block;line-height: 1.2em;}#sk-container-id-1 div.sk-label-container {text-align: center;}#sk-container-id-1 div.sk-container {/* jupyter's `normalize.less` sets `[hidden] { display: none; }` but bootstrap.min.css set `[hidden] { display: none !important; }` so we also need the `!important` here to be able to override the default hidden behavior on the sphinx rendered scikit-learn.org. See: https://github.com/scikit-learn/scikit-learn/issues/21755 */display: inline-block !important;position: relative;}#sk-container-id-1 div.sk-text-repr-fallback {display: none;}</style><div id=\"sk-container-id-1\" class=\"sk-top-container\"><div class=\"sk-text-repr-fallback\"><pre>ExtraTreesClassifier()</pre><b>In a Jupyter environment, please rerun this cell to show the HTML representation or trust the notebook. <br />On GitHub, the HTML representation is unable to render, please try loading this page with nbviewer.org.</b></div><div class=\"sk-container\" hidden><div class=\"sk-item\"><div class=\"sk-estimator sk-toggleable\"><input class=\"sk-toggleable__control sk-hidden--visually\" id=\"sk-estimator-id-1\" type=\"checkbox\" checked><label for=\"sk-estimator-id-1\" class=\"sk-toggleable__label sk-toggleable__label-arrow\">ExtraTreesClassifier</label><div class=\"sk-toggleable__content\"><pre>ExtraTreesClassifier()</pre></div></div></div></div></div>"
      ],
      "text/plain": [
       "ExtraTreesClassifier()"
      ]
     },
     "execution_count": 23,
     "metadata": {},
     "output_type": "execute_result"
    }
   ],
   "source": [
    "from sklearn.ensemble import ExtraTreesClassifier\n",
    "\n",
    "model = ExtraTreesClassifier()\n",
    "model.fit(p_train, t_train)"
   ]
  },
  {
   "cell_type": "markdown",
   "id": "f41798d2",
   "metadata": {
    "papermill": {
     "duration": 0.011486,
     "end_time": "2024-05-25T20:52:16.081747",
     "exception": false,
     "start_time": "2024-05-25T20:52:16.070261",
     "status": "completed"
    },
    "tags": []
   },
   "source": [
    "Visualizando a performance do modelo obtido, aplicando as variáveis a serem testadas."
   ]
  },
  {
   "cell_type": "code",
   "execution_count": 24,
   "id": "9313ead9",
   "metadata": {
    "execution": {
     "iopub.execute_input": "2024-05-25T20:52:16.107240Z",
     "iopub.status.busy": "2024-05-25T20:52:16.106857Z",
     "iopub.status.idle": "2024-05-25T20:52:16.122709Z",
     "shell.execute_reply": "2024-05-25T20:52:16.121670Z"
    },
    "papermill": {
     "duration": 0.031212,
     "end_time": "2024-05-25T20:52:16.124734",
     "exception": false,
     "start_time": "2024-05-25T20:52:16.093522",
     "status": "completed"
    },
    "tags": []
   },
   "outputs": [
    {
     "name": "stdout",
     "output_type": "stream",
     "text": [
      "Performance:  93.75%\n"
     ]
    }
   ],
   "source": [
    "result = (model.score(p_test, t_test))*100\n",
    "print(f'Performance:  {result}' '%')"
   ]
  },
  {
   "cell_type": "markdown",
   "id": "714fb3b3",
   "metadata": {
    "papermill": {
     "duration": 0.011587,
     "end_time": "2024-05-25T20:52:16.148338",
     "exception": false,
     "start_time": "2024-05-25T20:52:16.136751",
     "status": "completed"
    },
    "tags": []
   },
   "source": [
    "Visualizando os resultados dos testes para 3 registros."
   ]
  },
  {
   "cell_type": "code",
   "execution_count": 25,
   "id": "cffeea1d",
   "metadata": {
    "execution": {
     "iopub.execute_input": "2024-05-25T20:52:16.174017Z",
     "iopub.status.busy": "2024-05-25T20:52:16.173426Z",
     "iopub.status.idle": "2024-05-25T20:52:16.180302Z",
     "shell.execute_reply": "2024-05-25T20:52:16.179139Z"
    },
    "papermill": {
     "duration": 0.022055,
     "end_time": "2024-05-25T20:52:16.182272",
     "exception": false,
     "start_time": "2024-05-25T20:52:16.160217",
     "status": "completed"
    },
    "tags": []
   },
   "outputs": [
    {
     "data": {
      "text/plain": [
       "10    Rainy\n",
       "26    Sunny\n",
       "50    Rainy\n",
       "Name: weather_condition, dtype: object"
      ]
     },
     "execution_count": 25,
     "metadata": {},
     "output_type": "execute_result"
    }
   ],
   "source": [
    "t_test[10:13]"
   ]
  },
  {
   "cell_type": "code",
   "execution_count": 26,
   "id": "a6f36951",
   "metadata": {
    "execution": {
     "iopub.execute_input": "2024-05-25T20:52:16.208584Z",
     "iopub.status.busy": "2024-05-25T20:52:16.207980Z",
     "iopub.status.idle": "2024-05-25T20:52:16.218896Z",
     "shell.execute_reply": "2024-05-25T20:52:16.218105Z"
    },
    "papermill": {
     "duration": 0.026654,
     "end_time": "2024-05-25T20:52:16.221140",
     "exception": false,
     "start_time": "2024-05-25T20:52:16.194486",
     "status": "completed"
    },
    "tags": []
   },
   "outputs": [
    {
     "data": {
      "text/html": [
       "<div>\n",
       "<style scoped>\n",
       "    .dataframe tbody tr th:only-of-type {\n",
       "        vertical-align: middle;\n",
       "    }\n",
       "\n",
       "    .dataframe tbody tr th {\n",
       "        vertical-align: top;\n",
       "    }\n",
       "\n",
       "    .dataframe thead th {\n",
       "        text-align: right;\n",
       "    }\n",
       "</style>\n",
       "<table border=\"1\" class=\"dataframe\">\n",
       "  <thead>\n",
       "    <tr style=\"text-align: right;\">\n",
       "      <th></th>\n",
       "      <th>rainfall</th>\n",
       "      <th>temperature</th>\n",
       "      <th>humidity</th>\n",
       "      <th>wind_speed</th>\n",
       "    </tr>\n",
       "  </thead>\n",
       "  <tbody>\n",
       "    <tr>\n",
       "      <th>10</th>\n",
       "      <td>9.5</td>\n",
       "      <td>16.2</td>\n",
       "      <td>72.0</td>\n",
       "      <td>5.7</td>\n",
       "    </tr>\n",
       "    <tr>\n",
       "      <th>26</th>\n",
       "      <td>0.0</td>\n",
       "      <td>22.9</td>\n",
       "      <td>47.0</td>\n",
       "      <td>2.5</td>\n",
       "    </tr>\n",
       "    <tr>\n",
       "      <th>50</th>\n",
       "      <td>9.6</td>\n",
       "      <td>18.6</td>\n",
       "      <td>71.0</td>\n",
       "      <td>6.7</td>\n",
       "    </tr>\n",
       "  </tbody>\n",
       "</table>\n",
       "</div>"
      ],
      "text/plain": [
       "    rainfall  temperature  humidity  wind_speed\n",
       "10       9.5         16.2      72.0         5.7\n",
       "26       0.0         22.9      47.0         2.5\n",
       "50       9.6         18.6      71.0         6.7"
      ]
     },
     "execution_count": 26,
     "metadata": {},
     "output_type": "execute_result"
    }
   ],
   "source": [
    "p_test[10:13]"
   ]
  },
  {
   "cell_type": "markdown",
   "id": "bafbd275",
   "metadata": {
    "papermill": {
     "duration": 0.011896,
     "end_time": "2024-05-25T20:52:16.245314",
     "exception": false,
     "start_time": "2024-05-25T20:52:16.233418",
     "status": "completed"
    },
    "tags": []
   },
   "source": [
    "Validação do modelo de árvore de decisão."
   ]
  },
  {
   "cell_type": "code",
   "execution_count": 27,
   "id": "11c48b3d",
   "metadata": {
    "execution": {
     "iopub.execute_input": "2024-05-25T20:52:16.271422Z",
     "iopub.status.busy": "2024-05-25T20:52:16.271014Z",
     "iopub.status.idle": "2024-05-25T20:52:16.285175Z",
     "shell.execute_reply": "2024-05-25T20:52:16.284292Z"
    },
    "papermill": {
     "duration": 0.029982,
     "end_time": "2024-05-25T20:52:16.287487",
     "exception": false,
     "start_time": "2024-05-25T20:52:16.257505",
     "status": "completed"
    },
    "tags": []
   },
   "outputs": [],
   "source": [
    "pred = model.predict(p_test[10:13])"
   ]
  },
  {
   "cell_type": "code",
   "execution_count": 28,
   "id": "09ef4ce0",
   "metadata": {
    "execution": {
     "iopub.execute_input": "2024-05-25T20:52:16.313823Z",
     "iopub.status.busy": "2024-05-25T20:52:16.313421Z",
     "iopub.status.idle": "2024-05-25T20:52:16.319322Z",
     "shell.execute_reply": "2024-05-25T20:52:16.317865Z"
    },
    "papermill": {
     "duration": 0.021808,
     "end_time": "2024-05-25T20:52:16.321547",
     "exception": false,
     "start_time": "2024-05-25T20:52:16.299739",
     "status": "completed"
    },
    "tags": []
   },
   "outputs": [
    {
     "name": "stdout",
     "output_type": "stream",
     "text": [
      "['Rainy' 'Sunny' 'Rainy']\n"
     ]
    }
   ],
   "source": [
    "print(pred)"
   ]
  }
 ],
 "metadata": {
  "kaggle": {
   "accelerator": "none",
   "dataSources": [
    {
     "datasetId": 4839384,
     "sourceId": 8175605,
     "sourceType": "datasetVersion"
    }
   ],
   "dockerImageVersionId": 30698,
   "isGpuEnabled": false,
   "isInternetEnabled": false,
   "language": "python",
   "sourceType": "notebook"
  },
  "kernelspec": {
   "display_name": "Python 3",
   "language": "python",
   "name": "python3"
  },
  "language_info": {
   "codemirror_mode": {
    "name": "ipython",
    "version": 3
   },
   "file_extension": ".py",
   "mimetype": "text/x-python",
   "name": "python",
   "nbconvert_exporter": "python",
   "pygments_lexer": "ipython3",
   "version": "3.10.13"
  },
  "papermill": {
   "default_parameters": {},
   "duration": 8.361642,
   "end_time": "2024-05-25T20:52:16.957315",
   "environment_variables": {},
   "exception": null,
   "input_path": "__notebook__.ipynb",
   "output_path": "__notebook__.ipynb",
   "parameters": {},
   "start_time": "2024-05-25T20:52:08.595673",
   "version": "2.5.0"
  }
 },
 "nbformat": 4,
 "nbformat_minor": 5
}
